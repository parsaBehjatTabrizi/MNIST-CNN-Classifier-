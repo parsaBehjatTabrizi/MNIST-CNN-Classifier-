{
  "nbformat": 4,
  "nbformat_minor": 0,
  "metadata": {
    "colab": {
      "provenance": []
    },
    "kernelspec": {
      "name": "python3",
      "display_name": "Python 3"
    },
    "language_info": {
      "name": "python"
    }
  },
  "cells": [
    {
      "cell_type": "markdown",
      "source": [
        "### **Training a model on MNIST dataset**\n",
        "\n",
        "\n",
        "\n",
        "\n",
        "---\n",
        "\n",
        "![applsci-09-03169-g001-550.webp](data:image/webp;base64,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)\n",
        "\n",
        "\n",
        "---\n",
        "\n",
        "\n",
        "The **MNIST** dataset (Modified National Institute of Standards and Technology) is a widely used collection of 70,000 grayscale images of handwritten digits (0-9), with 60,000 images for training and 10,000 for testing. It is often used as a benchmark for evaluating machine learning models, particularly in the fields of image recognition and classification. Each image is 28x28 pixels, and the dataset includes corresponding labels that represent the digit in the image.\n",
        "This dataset in **bold text**\n",
        "\n",
        "---\n",
        "\n",
        "To insert the MNIST dataset into the code you shared earlier, you can load the dataset using TensorFlow's built-in **mnist.load_data()** function, which provides the data as training and testing sets. Since you've already included the **preprocess_data** function in the code, here's how you can integrate it:\n",
        "\n",
        "Import the MNIST dataset: You've already imported mnist in the **preprocess_data()** function. This function loads the dataset, reshapes the images, and normalizes them.\n",
        "\n",
        "Preprocess the dataset: The **preprocess_data()** function will be called to load, preprocess, and split the data into training and testing sets. This function is already included in your script.\n",
        "\n",
        "Use the data for training the model: The data returned by **preprocess_data()** will be used for model training, validation, and evaluation. You don't need to make any additional changes if the function is already written correctly.\n",
        "\n",
        "> Add blockquote\n",
        "\n",
        "\n",
        "\n",
        "---\n",
        "**I hope it helps you**\n",
        "\n",
        "\n",
        "At first we add necessary libraries wich is\n",
        "tensorflow\n",
        "tensirflow.keras\n",
        "tensorflow.heras.dataset\n",
        "google.colab as drive and files\n",
        "and at the end ad the OS library"
      ],
      "metadata": {
        "id": "tW71-jLpzfS-"
      }
    },
    {
      "cell_type": "code",
      "source": [
        "#adding the necessary libraries\n",
        "import tensorflow as tf\n",
        "from tensorflow.keras import layers, models\n",
        "from tensorflow.keras.datasets import mnist\n",
        "from google.colab import drive, files\n",
        "import os"
      ],
      "metadata": {
        "id": "a4AfzvqPzouA"
      },
      "execution_count": 3,
      "outputs": []
    },
    {
      "cell_type": "markdown",
      "source": [
        "his code defines constants for image size, number of classes, batch size, epochs, and the model's save filename, ensuring readability and easy modification throughout the script."
      ],
      "metadata": {
        "id": "q6qbeEnl4EQL"
      }
    },
    {
      "cell_type": "code",
      "source": [
        "# Constants\n",
        "IMG_HEIGHT, IMG_WIDTH = 28, 28\n",
        "NUM_CLASSES = 10\n",
        "BATCH_SIZE = 128\n",
        "EPOCHS = 10\n",
        "MODEL_FILENAME = \"mnist_cnn.h5\""
      ],
      "metadata": {
        "id": "FNmL69if0J5L"
      },
      "execution_count": 4,
      "outputs": []
    },
    {
      "cell_type": "markdown",
      "source": [
        "In this part i add this function to save the result in google drive"
      ],
      "metadata": {
        "id": "Oij3Aet91jxh"
      }
    },
    {
      "cell_type": "code",
      "source": [
        "# Prepare Google Drive (optional)\n",
        "def setup_drive():\n",
        "    drive.mount('/content/drive')\n",
        "    save_path = \"/content/drive/MyDriveYOUR FOLDER NAME\"\n",
        "    if not os.path.exists(save_path):\n",
        "        os.makedirs(save_path)\n",
        "    return save_path"
      ],
      "metadata": {
        "id": "hIc80f1H1mpP"
      },
      "execution_count": 6,
      "outputs": []
    },
    {
      "cell_type": "markdown",
      "source": [
        "This function loads the MNIST dataset, reshapes the images to include a channel dimension (28, 28, 1), normalizes pixel values to the range [0, 1], and converts the labels into one-hot encoded format for training and evaluation."
      ],
      "metadata": {
        "id": "ag6o9DRN4aeI"
      }
    },
    {
      "cell_type": "code",
      "source": [
        "# Load and preprocess data\n",
        "def preprocess_data():\n",
        "    (x_train, y_train), (x_test, y_test) = mnist.load_data()\n",
        "    x_train = x_train.reshape(-1, IMG_HEIGHT, IMG_WIDTH, 1).astype(\"float32\") / 255.0\n",
        "    x_test = x_test.reshape(-1, IMG_HEIGHT, IMG_WIDTH, 1).astype(\"float32\") / 255.0\n",
        "    y_train = tf.keras.utils.to_categorical(y_train, NUM_CLASSES)\n",
        "    y_test = tf.keras.utils.to_categorical(y_test, NUM_CLASSES)\n",
        "    return (x_train, y_train), (x_test, y_test)\n"
      ],
      "metadata": {
        "id": "aqYoQBO14JsQ"
      },
      "execution_count": 7,
      "outputs": []
    },
    {
      "cell_type": "markdown",
      "source": [
        "This function defines a sequential CNN model with two convolutional layers (using ReLU activation), max pooling layers, a flattening layer, and two dense layers, including a softmax output layer for classification. It compiles the model with the Adam optimizer, categorical cross-entropy loss, and accuracy as the evaluation metric."
      ],
      "metadata": {
        "id": "kQlBQ8ZT4vZT"
      }
    },
    {
      "cell_type": "code",
      "source": [
        "# Create CNN model\n",
        "def build_model():\n",
        "    model = models.Sequential([\n",
        "        layers.Conv2D(32, kernel_size=(3, 3), activation=\"relu\", input_shape=(IMG_HEIGHT, IMG_WIDTH, 1)),\n",
        "        layers.MaxPooling2D(pool_size=(2, 2)),\n",
        "        layers.Conv2D(64, (3, 3), activation=\"relu\"),\n",
        "        layers.MaxPooling2D(pool_size=(2, 2)),\n",
        "        layers.Flatten(),\n",
        "        layers.Dense(128, activation=\"relu\"),\n",
        "        layers.Dense(NUM_CLASSES, activation=\"softmax\"),\n",
        "    ])\n",
        "    model.compile(optimizer=\"adam\", loss=\"categorical_crossentropy\", metrics=[\"accuracy\"])\n",
        "    return model"
      ],
      "metadata": {
        "id": "WgtdH5Ri4uJq"
      },
      "execution_count": 8,
      "outputs": []
    },
    {
      "cell_type": "code",
      "source": [
        "# Train the model\n",
        "def train_model(model, x_train, y_train, x_test, y_test):\n",
        "    model.fit(x_train, y_train, batch_size=BATCH_SIZE, epochs=EPOCHS, validation_data=(x_test, y_test))\n",
        "    return model"
      ],
      "metadata": {
        "id": "ev8xEUjJ43ga"
      },
      "execution_count": 9,
      "outputs": []
    },
    {
      "cell_type": "markdown",
      "source": [
        "In this part i save the code on google drive base on the path that i give"
      ],
      "metadata": {
        "id": "UCRHFeJY9dOY"
      }
    },
    {
      "cell_type": "code",
      "source": [
        "# Save the model locally and to Google Drive\n",
        "def save_model(model, drive_path=None):\n",
        "    local_path = f\"./{MODEL_FILENAME}\"\n",
        "    model.save(local_path)\n",
        "    print(f\"Model saved locally at {local_path}\")\n",
        "    files.download(local_path)\n",
        "    if drive_path:\n",
        "        drive_save_path = os.path.join(drive_path, MODEL_FILENAME)\n",
        "        model.save(drive_save_path)\n",
        "        print(f\"Model also saved to Google Drive at {drive_save_path}\")"
      ],
      "metadata": {
        "id": "62Rjit9F9gc8"
      },
      "execution_count": 10,
      "outputs": []
    },
    {
      "cell_type": "markdown",
      "source": [
        "This code is the main workflow for training and saving a CNN model using TensorFlow. It optionally sets up Google Drive for saving the model remotely, preprocesses the MNIST dataset, builds and trains the CNN model using the training data, evaluates it on the test data, and saves the trained model locally and optionally to Google Drive. The evaluation results (test accuracy and loss) are then printed. The script executes this logic when run directly.\n"
      ],
      "metadata": {
        "id": "XLwZcAwu-9D3"
      }
    },
    {
      "cell_type": "code",
      "source": [
        "# Main logic\n",
        "def main():\n",
        "    # Optional: Set up Google Drive\n",
        "    try:\n",
        "        drive_save_path = setup_drive()\n",
        "    except Exception as e:\n",
        "        print(\"Failed to set up Google Drive. Saving only locally.\")\n",
        "        drive_save_path = None\n",
        "\n",
        "    # Load and preprocess data\n",
        "    (x_train, y_train), (x_test, y_test) = preprocess_data()\n",
        "\n",
        "    # Build and train the model\n",
        "    model = build_model()\n",
        "    model = train_model(model, x_train, y_train, x_test, y_test)\n",
        "\n",
        "    # Save the trained model\n",
        "    save_model(model, drive_save_path)\n",
        "\n",
        "    # Evaluate the model\n",
        "    loss, acc = model.evaluate(x_test, y_test, verbose=0)\n",
        "    print(f\"Test Accuracy: {acc:.4f}, Test Loss: {loss:.4f}\")\n",
        "\n",
        "if __name__ == \"__main__\":\n",
        "    main()\n"
      ],
      "metadata": {
        "colab": {
          "base_uri": "https://localhost:8080/",
          "height": 540
        },
        "id": "LYtM7ow5-_C7",
        "outputId": "00066c0c-72aa-48c3-9133-5b4ead59a99e"
      },
      "execution_count": 11,
      "outputs": [
        {
          "output_type": "stream",
          "name": "stdout",
          "text": [
            "Mounted at /content/drive\n",
            "Failed to set up Google Drive. Saving only locally.\n",
            "Downloading data from https://storage.googleapis.com/tensorflow/tf-keras-datasets/mnist.npz\n",
            "\u001b[1m11490434/11490434\u001b[0m \u001b[32m━━━━━━━━━━━━━━━━━━━━\u001b[0m\u001b[37m\u001b[0m \u001b[1m0s\u001b[0m 0us/step\n"
          ]
        },
        {
          "output_type": "stream",
          "name": "stderr",
          "text": [
            "/usr/local/lib/python3.11/dist-packages/keras/src/layers/convolutional/base_conv.py:107: UserWarning: Do not pass an `input_shape`/`input_dim` argument to a layer. When using Sequential models, prefer using an `Input(shape)` object as the first layer in the model instead.\n",
            "  super().__init__(activity_regularizer=activity_regularizer, **kwargs)\n"
          ]
        },
        {
          "output_type": "stream",
          "name": "stdout",
          "text": [
            "Epoch 1/10\n",
            "\u001b[1m469/469\u001b[0m \u001b[32m━━━━━━━━━━━━━━━━━━━━\u001b[0m\u001b[37m\u001b[0m \u001b[1m54s\u001b[0m 111ms/step - accuracy: 0.8737 - loss: 0.4624 - val_accuracy: 0.9801 - val_loss: 0.0623\n",
            "Epoch 2/10\n",
            "\u001b[1m469/469\u001b[0m \u001b[32m━━━━━━━━━━━━━━━━━━━━\u001b[0m\u001b[37m\u001b[0m \u001b[1m48s\u001b[0m 103ms/step - accuracy: 0.9814 - loss: 0.0604 - val_accuracy: 0.9877 - val_loss: 0.0392\n",
            "Epoch 3/10\n",
            "\u001b[1m469/469\u001b[0m \u001b[32m━━━━━━━━━━━━━━━━━━━━\u001b[0m\u001b[37m\u001b[0m \u001b[1m81s\u001b[0m 100ms/step - accuracy: 0.9877 - loss: 0.0380 - val_accuracy: 0.9887 - val_loss: 0.0346\n",
            "Epoch 4/10\n",
            "\u001b[1m469/469\u001b[0m \u001b[32m━━━━━━━━━━━━━━━━━━━━\u001b[0m\u001b[37m\u001b[0m \u001b[1m48s\u001b[0m 102ms/step - accuracy: 0.9911 - loss: 0.0286 - val_accuracy: 0.9888 - val_loss: 0.0317\n",
            "Epoch 5/10\n",
            "\u001b[1m469/469\u001b[0m \u001b[32m━━━━━━━━━━━━━━━━━━━━\u001b[0m\u001b[37m\u001b[0m \u001b[1m49s\u001b[0m 105ms/step - accuracy: 0.9934 - loss: 0.0217 - val_accuracy: 0.9900 - val_loss: 0.0316\n",
            "Epoch 6/10\n",
            "\u001b[1m469/469\u001b[0m \u001b[32m━━━━━━━━━━━━━━━━━━━━\u001b[0m\u001b[37m\u001b[0m \u001b[1m51s\u001b[0m 109ms/step - accuracy: 0.9939 - loss: 0.0187 - val_accuracy: 0.9906 - val_loss: 0.0289\n",
            "Epoch 7/10\n",
            "\u001b[1m469/469\u001b[0m \u001b[32m━━━━━━━━━━━━━━━━━━━━\u001b[0m\u001b[37m\u001b[0m \u001b[1m78s\u001b[0m 100ms/step - accuracy: 0.9957 - loss: 0.0144 - val_accuracy: 0.9902 - val_loss: 0.0298\n",
            "Epoch 8/10\n",
            "\u001b[1m469/469\u001b[0m \u001b[32m━━━━━━━━━━━━━━━━━━━━\u001b[0m\u001b[37m\u001b[0m \u001b[1m49s\u001b[0m 105ms/step - accuracy: 0.9966 - loss: 0.0111 - val_accuracy: 0.9905 - val_loss: 0.0318\n",
            "Epoch 9/10\n",
            "\u001b[1m469/469\u001b[0m \u001b[32m━━━━━━━━━━━━━━━━━━━━\u001b[0m\u001b[37m\u001b[0m \u001b[1m80s\u001b[0m 100ms/step - accuracy: 0.9971 - loss: 0.0083 - val_accuracy: 0.9915 - val_loss: 0.0304\n",
            "Epoch 10/10\n",
            "\u001b[1m469/469\u001b[0m \u001b[32m━━━━━━━━━━━━━━━━━━━━\u001b[0m\u001b[37m\u001b[0m \u001b[1m47s\u001b[0m 100ms/step - accuracy: 0.9976 - loss: 0.0071 - val_accuracy: 0.9902 - val_loss: 0.0351\n"
          ]
        },
        {
          "output_type": "stream",
          "name": "stderr",
          "text": [
            "WARNING:absl:You are saving your model as an HDF5 file via `model.save()` or `keras.saving.save_model(model)`. This file format is considered legacy. We recommend using instead the native Keras format, e.g. `model.save('my_model.keras')` or `keras.saving.save_model(model, 'my_model.keras')`. \n"
          ]
        },
        {
          "output_type": "stream",
          "name": "stdout",
          "text": [
            "Model saved locally at ./mnist_cnn.h5\n"
          ]
        },
        {
          "output_type": "display_data",
          "data": {
            "text/plain": [
              "<IPython.core.display.Javascript object>"
            ],
            "application/javascript": [
              "\n",
              "    async function download(id, filename, size) {\n",
              "      if (!google.colab.kernel.accessAllowed) {\n",
              "        return;\n",
              "      }\n",
              "      const div = document.createElement('div');\n",
              "      const label = document.createElement('label');\n",
              "      label.textContent = `Downloading \"${filename}\": `;\n",
              "      div.appendChild(label);\n",
              "      const progress = document.createElement('progress');\n",
              "      progress.max = size;\n",
              "      div.appendChild(progress);\n",
              "      document.body.appendChild(div);\n",
              "\n",
              "      const buffers = [];\n",
              "      let downloaded = 0;\n",
              "\n",
              "      const channel = await google.colab.kernel.comms.open(id);\n",
              "      // Send a message to notify the kernel that we're ready.\n",
              "      channel.send({})\n",
              "\n",
              "      for await (const message of channel.messages) {\n",
              "        // Send a message to notify the kernel that we're ready.\n",
              "        channel.send({})\n",
              "        if (message.buffers) {\n",
              "          for (const buffer of message.buffers) {\n",
              "            buffers.push(buffer);\n",
              "            downloaded += buffer.byteLength;\n",
              "            progress.value = downloaded;\n",
              "          }\n",
              "        }\n",
              "      }\n",
              "      const blob = new Blob(buffers, {type: 'application/binary'});\n",
              "      const a = document.createElement('a');\n",
              "      a.href = window.URL.createObjectURL(blob);\n",
              "      a.download = filename;\n",
              "      div.appendChild(a);\n",
              "      a.click();\n",
              "      div.remove();\n",
              "    }\n",
              "  "
            ]
          },
          "metadata": {}
        },
        {
          "output_type": "display_data",
          "data": {
            "text/plain": [
              "<IPython.core.display.Javascript object>"
            ],
            "application/javascript": [
              "download(\"download_67bf2db5-fcad-4df1-9ea9-ef913902c121\", \"mnist_cnn.h5\", 2741696)"
            ]
          },
          "metadata": {}
        },
        {
          "output_type": "stream",
          "name": "stdout",
          "text": [
            "Test Accuracy: 0.9902, Test Loss: 0.0351\n"
          ]
        }
      ]
    }
  ]
}